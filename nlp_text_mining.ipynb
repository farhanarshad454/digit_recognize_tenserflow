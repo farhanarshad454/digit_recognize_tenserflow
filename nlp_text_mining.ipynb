{
  "nbformat": 4,
  "nbformat_minor": 0,
  "metadata": {
    "colab": {
      "name": "nlp_text_mining.ipynb",
      "provenance": [],
      "collapsed_sections": [],
      "authorship_tag": "ABX9TyNre5zz+wRLUM42CDRwrfsC",
      "include_colab_link": true
    },
    "kernelspec": {
      "name": "python3",
      "display_name": "Python 3"
    }
  },
  "cells": [
    {
      "cell_type": "markdown",
      "metadata": {
        "id": "view-in-github",
        "colab_type": "text"
      },
      "source": [
        "<a href=\"https://colab.research.google.com/github/farhanarshad454/digit_recognize_tenserflow/blob/main/nlp_text_mining.ipynb\" target=\"_parent\"><img src=\"https://colab.research.google.com/assets/colab-badge.svg\" alt=\"Open In Colab\"/></a>"
      ]
    },
    {
      "cell_type": "code",
      "metadata": {
        "colab": {
          "base_uri": "https://localhost:8080/",
          "height": 365
        },
        "id": "1rDTTr-QjtB7",
        "outputId": "39790f14-0656-4c41-e8e1-96f09c3ee43d"
      },
      "source": [
        "import nltk\r\n",
        "nltk.download('punkt')\r\n",
        "from nltk.tokenize import word_tokenize\r\n",
        "from nltk.probability import FreqDist\r\n",
        "word = 'my name is farhan and i am not a good muslim with respect to obeying the true meaning of islam ,so please do not judge muslim by faulty muslim'\r\n",
        "fdist = FreqDist(word_tokenize(word))\r\n",
        "print(fdist.most_common(2))\r\n",
        "import matplotlib.pyplot as plt \r\n",
        "fdist.plot(30,cumulative =False)\r\n",
        "plt.show()"
      ],
      "execution_count": 1,
      "outputs": [
        {
          "output_type": "stream",
          "text": [
            "[nltk_data] Downloading package punkt to /root/nltk_data...\n",
            "[nltk_data]   Unzipping tokenizers/punkt.zip.\n",
            "[('muslim', 3), ('not', 2)]\n"
          ],
          "name": "stdout"
        },
        {
          "output_type": "display_data",
          "data": {
            "image/png": "[encoded data removed]",
            "text/plain": [
              "<Figure size 432x288 with 1 Axes>"
            ]
          },
          "metadata": {
            "tags": [],
            "needs_background": "light"
          }
        }
      ]
    },
    {
      "cell_type": "code",
      "metadata": {
        "colab": {
          "base_uri": "https://localhost:8080/"
        },
        "id": "2XLpefegju4D",
        "outputId": "c7937d11-e5b8-454e-e522-a9527b5e5a41"
      },
      "source": [
        "nltk.download('stopwords')\r\n",
        "from nltk.corpus import stopwords\r\n",
        "\r\n",
        "stop_words=set(stopwords.words('english'))\r\n",
        "print(stop_words)\r\n"
      ],
      "execution_count": 2,
      "outputs": [
        {
          "output_type": "stream",
          "text": [
            "[nltk_data] Downloading package stopwords to /root/nltk_data...\n",
            "[nltk_data]   Unzipping corpora/stopwords.zip.\n",
            "{'we', 'who', 'by', 'there', \"wasn't\", 'during', 'until', \"needn't\", 'from', 'hasn', 'has', 'which', 'those', 'with', 'ours', 'being', 'not', 'so', \"hadn't\", 'm', 's', 'aren', \"doesn't\", 'and', 'into', 'but', 'once', 'further', 'won', 'how', \"you've\", 'she', 'that', 'down', 'each', 'before', 'y', 'he', 'himself', 'will', 'their', 'now', 'or', 're', 'mightn', 'hadn', 'if', \"didn't\", 'more', 'don', 'again', 'd', 'wasn', 'him', 'can', \"mightn't\", \"should've\", \"shouldn't\", 'her', 'few', 'couldn', 'you', 'doing', 'above', 'hers', 'yours', 'why', 'do', 'such', 'own', 'is', 'been', 'yourselves', 'then', 'than', 'same', 'off', 'should', 'what', 'theirs', 'the', 'did', 'mustn', 'shouldn', 'ain', \"you'll\", 'it', 'its', 'be', \"that'll\", 'while', 'them', 'were', 'they', 'weren', 'only', 'through', 'in', \"you'd\", 'o', 'having', 'my', 'isn', \"aren't\", 'yourself', 'a', \"she's\", 'nor', 'wouldn', 'does', 'had', 'most', \"you're\", 'some', \"it's\", \"haven't\", 'themselves', 'of', 'these', 'because', 'your', 'under', \"isn't\", 'no', 'here', 'are', 'an', \"couldn't\", \"weren't\", 'for', 'where', \"wouldn't\", 'too', \"don't\", 'ma', 'just', 'myself', 'haven', \"won't\", 'll', 'this', \"shan't\", 'between', 'whom', 'out', 'me', 'didn', 'after', 'herself', 'at', 'ourselves', 'over', 'against', 've', 'needn', 'have', 'when', 'shan', 'other', 'as', 'on', 'to', 'am', 'about', 'very', 'below', 'our', 'i', 'was', 'both', 'doesn', 'itself', \"mustn't\", 't', 'up', \"hasn't\", 'all', 'his', 'any'}\n"
          ],
          "name": "stdout"
        }
      ]
    },
    {
      "cell_type": "code",
      "metadata": {
        "colab": {
          "base_uri": "https://localhost:8080/"
        },
        "id": "UeGhHFlsj0Vh",
        "outputId": "7c233957-688c-4949-a6f7-bcfcfeac9d61"
      },
      "source": [
        "tokenized_set=word_tokenize(word)\r\n",
        "filterwords=[]\r\n",
        "for w in tokenized_set:\r\n",
        "  if w not in stop_words:\r\n",
        "    filterwords.append(w)\r\n",
        "print('tokenized_set',word_tokenize(word))\r\n",
        "print('filter _set',filterwords)\r\n"
      ],
      "execution_count": 3,
      "outputs": [
        {
          "output_type": "stream",
          "text": [
            "tokenized_set ['my', 'name', 'is', 'farhan', 'and', 'i', 'am', 'not', 'a', 'good', 'muslim', 'with', 'respect', 'to', 'obeying', 'the', 'true', 'meaning', 'of', 'islam', ',', 'so', 'please', 'do', 'not', 'judge', 'muslim', 'by', 'faulty', 'muslim']\n",
            "filter _set ['name', 'farhan', 'good', 'muslim', 'respect', 'obeying', 'true', 'meaning', 'islam', ',', 'please', 'judge', 'muslim', 'faulty', 'muslim']\n"
          ],
          "name": "stdout"
        }
      ]
    },
    {
      "cell_type": "code",
      "metadata": {
        "colab": {
          "base_uri": "https://localhost:8080/"
        },
        "id": "CeSokUPoj4az",
        "outputId": "9f4ea07b-1035-4a62-9416-f8d6ecd00508"
      },
      "source": [
        "from nltk.stem import PorterStemmer\r\n",
        "ps=PorterStemmer()\r\n",
        "stem_word=[]\r\n",
        "for w in filterwords:\r\n",
        "  stem_word.append(ps.stem(w))\r\n",
        "\r\n",
        "print('filter_set',filterwords)\r\n",
        "print('Stemmed sentence',stem_word)"
      ],
      "execution_count": 4,
      "outputs": [
        {
          "output_type": "stream",
          "text": [
            "filter_set ['name', 'farhan', 'good', 'muslim', 'respect', 'obeying', 'true', 'meaning', 'islam', ',', 'please', 'judge', 'muslim', 'faulty', 'muslim']\n",
            "Stemmed sentence ['name', 'farhan', 'good', 'muslim', 'respect', 'obey', 'true', 'mean', 'islam', ',', 'pleas', 'judg', 'muslim', 'faulti', 'muslim']\n"
          ],
          "name": "stdout"
        }
      ]
    },
    {
      "cell_type": "code",
      "metadata": {
        "colab": {
          "base_uri": "https://localhost:8080/"
        },
        "id": "Urir5_fQj9Mf",
        "outputId": "aa14cd04-d074-4dec-a8b1-3d7a0bcce18b"
      },
      "source": [
        "# COMPARISON OF STEMMER AND LEMMATIZATION(LEMMATIZATION IS BETTER THAN STEMMER)\r\n",
        "# BECAUSE (LEMMATIZATION WORK ON THE BASE OF VOCABULARY AND MORPHOLOGICAL ANALYSIS WHILE)\r\n",
        "# Stemmer works on an individual word without knowledge of the context.\r\n",
        "nltk.download('wordnet')\r\n",
        "from nltk.stem.wordnet import WordNetLemmatizer\r\n",
        "word='flying'\r\n",
        "wnlem = WordNetLemmatizer()\r\n",
        "print('WORDNETLEMMATIZER',wnlem.lemmatize(word,'v'))\r\n",
        "print('STEMMING',ps.stem(word))"
      ],
      "execution_count": 5,
      "outputs": [
        {
          "output_type": "stream",
          "text": [
            "[nltk_data] Downloading package wordnet to /root/nltk_data...\n",
            "[nltk_data]   Unzipping corpora/wordnet.zip.\n",
            "WORDNETLEMMATIZER fly\n",
            "STEMMING fli\n"
          ],
          "name": "stdout"
        }
      ]
    },
    {
      "cell_type": "code",
      "metadata": {
        "colab": {
          "base_uri": "https://localhost:8080/"
        },
        "id": "faWYxAs3l28p",
        "outputId": "53c429cd-806a-4be4-d53e-6f3fb526145e"
      },
      "source": [
        "# PERFORMING \"POS(PARTS OF SPEECH\"\r\n",
        "nltk.download('averaged_perceptron_tagger')\r\n",
        "w='Albert Einstine was a great scientist !but our national muslim hero Mustafa was with him in their discoveries,1952'\r\n",
        "token = nltk.word_tokenize(w)\r\n",
        "print(token)\r\n",
        "nltk.pos_tag(token)"
      ],
      "execution_count": 6,
      "outputs": [
        {
          "output_type": "stream",
          "text": [
            "[nltk_data] Downloading package averaged_perceptron_tagger to\n",
            "[nltk_data]     /root/nltk_data...\n",
            "[nltk_data]   Unzipping taggers/averaged_perceptron_tagger.zip.\n",
            "['Albert', 'Einstine', 'was', 'a', 'great', 'scientist', '!', 'but', 'our', 'national', 'muslim', 'hero', 'Mustafa', 'was', 'with', 'him', 'in', 'their', 'discoveries,1952']\n"
          ],
          "name": "stdout"
        },
        {
          "output_type": "execute_result",
          "data": {
            "text/plain": [
              "[('Albert', 'NNP'),\n",
              " ('Einstine', 'NNP'),\n",
              " ('was', 'VBD'),\n",
              " ('a', 'DT'),\n",
              " ('great', 'JJ'),\n",
              " ('scientist', 'NN'),\n",
              " ('!', '.'),\n",
              " ('but', 'CC'),\n",
              " ('our', 'PRP$'),\n",
              " ('national', 'JJ'),\n",
              " ('muslim', 'NN'),\n",
              " ('hero', 'NN'),\n",
              " ('Mustafa', 'NNP'),\n",
              " ('was', 'VBD'),\n",
              " ('with', 'IN'),\n",
              " ('him', 'PRP'),\n",
              " ('in', 'IN'),\n",
              " ('their', 'PRP$'),\n",
              " ('discoveries,1952', 'NN')]"
            ]
          },
          "metadata": {
            "tags": []
          },
          "execution_count": 6
        }
      ]
    },
    {
      "cell_type": "code",
      "metadata": {
        "id": "UnGjr-aloqGW"
      },
      "source": [
        "import pandas as pd \r\n",
        "\r\n"
      ],
      "execution_count": 7,
      "outputs": []
    },
    {
      "cell_type": "code",
      "metadata": {
        "id": "qR5rBLvpBzpz"
      },
      "source": [
        "\r\n",
        "# !unzip\"/content/train.tsv.zip\" -d assign\r\n",
        "# data=pd.read_csv('train.tsv', sep='\\t')\r\n",
        "# from zipfile import ZipFile\r\n",
        "\r\n",
        "# with ZipFile('train.tsv.zip', 'r') as zipObj:\r\n",
        "#    # Extract all the contents of zip file in current directory\r\n",
        "#    zipObj.extractall('temp')\r\n",
        "data = pd.read_csv('/content/train.tsv',error_bad_lines=False,sep='\\t')"
      ],
      "execution_count": 9,
      "outputs": []
    },
    {
      "cell_type": "code",
      "metadata": {
        "colab": {
          "base_uri": "https://localhost:8080/"
        },
        "id": "A-dUghEDB0Ru",
        "outputId": "3ce4498f-263f-4996-a06d-7b0725389cb1"
      },
      "source": [
        "data.head(2)\r\n",
        "data.shape"
      ],
      "execution_count": 28,
      "outputs": [
        {
          "output_type": "execute_result",
          "data": {
            "text/plain": [
              "(99735, 4)"
            ]
          },
          "metadata": {
            "tags": []
          },
          "execution_count": 28
        }
      ]
    },
    {
      "cell_type": "code",
      "metadata": {
        "colab": {
          "base_uri": "https://localhost:8080/"
        },
        "id": "JIjvnofBYgeB",
        "outputId": "764f5e8a-1e7b-4298-a651-f1fdb1463ca6"
      },
      "source": [
        "data.info()\r\n",
        "# data.dropna(NaN)\r\n",
        "data = data.apply (pd.to_numeric, errors='coerce')\r\n",
        "data = data.dropna()\r\n",
        "data=data.astype(str)\r\n",
        "print(data)"
      ],
      "execution_count": 46,
      "outputs": [
        {
          "output_type": "stream",
          "text": [
            "<class 'pandas.core.frame.DataFrame'>\n",
            "Int64Index: 82 entries, 668 to 99053\n",
            "Data columns (total 4 columns):\n",
            " #   Column      Non-Null Count  Dtype  \n",
            "---  ------      --------------  -----  \n",
            " 0   PhraseId    82 non-null     int64  \n",
            " 1   SentenceId  82 non-null     int64  \n",
            " 2   Phrase      82 non-null     float64\n",
            " 3   Sentiment   82 non-null     float64\n",
            "dtypes: float64(2), int64(2)\n",
            "memory usage: 3.2 KB\n",
            "      PhraseId SentenceId  Phrase Sentiment\n",
            "668        669         24     7.0       2.0\n",
            "1209      1210         44    25.0       2.0\n",
            "1467      1468         53    60.0       2.0\n",
            "2838      2839        108  3000.0       3.0\n",
            "3125      3126        118   300.0       2.0\n",
            "...        ...        ...     ...       ...\n",
            "84264    84265       4354    18.0       2.0\n",
            "86799    86800       4496  1938.0       2.0\n",
            "87390    87391       4532    89.0       2.0\n",
            "94329    94330       4923  1959.0       2.0\n",
            "99053    99054       5194  1997.0       2.0\n",
            "\n",
            "[82 rows x 4 columns]\n"
          ],
          "name": "stdout"
        }
      ]
    },
    {
      "cell_type": "code",
      "metadata": {
        "colab": {
          "base_uri": "https://localhost:8080/"
        },
        "id": "535BC5C_YyqU",
        "outputId": "8d06d0c7-024e-4606-b118-0e84ad096c10"
      },
      "source": [
        "data.Sentiment.value_counts()"
      ],
      "execution_count": 47,
      "outputs": [
        {
          "output_type": "execute_result",
          "data": {
            "text/plain": [
              "2.0    80\n",
              "3.0     2\n",
              "Name: Sentiment, dtype: int64"
            ]
          },
          "metadata": {
            "tags": []
          },
          "execution_count": 47
        }
      ]
    },
    {
      "cell_type": "code",
      "metadata": {
        "colab": {
          "base_uri": "https://localhost:8080/",
          "height": 279
        },
        "id": "sBXsAGKfZDf0",
        "outputId": "b352b728-dafc-45fe-a7ca-129f54432b9b"
      },
      "source": [
        "import matplotlib.pyplot as plt\r\n",
        "Sentiment_count=data.groupby('Sentiment').count()\r\n",
        "plt.bar(Sentiment_count.index.values, Sentiment_count['Phrase'])\r\n",
        "plt.xlabel('Review Sentiments')\r\n",
        "plt.ylabel('Number of Review')\r\n",
        "plt.show()"
      ],
      "execution_count": 48,
      "outputs": [
        {
          "output_type": "display_data",
          "data": {
            "image/png": "[encoded data removed]",
            "text/plain": [
              "<Figure size 432x288 with 1 Axes>"
            ]
          },
          "metadata": {
            "tags": [],
            "needs_background": "light"
          }
        }
      ]
    },
    {
      "cell_type": "code",
      "metadata": {
        "id": "c6OuC_YcZRoq"
      },
      "source": [
        "from sklearn.feature_extraction.text import CountVectorizer\r\n",
        "from nltk.tokenize import RegexpTokenizer"
      ],
      "execution_count": 49,
      "outputs": []
    },
    {
      "cell_type": "code",
      "metadata": {
        "id": "8GVt6CFCMDDG"
      },
      "source": [
        "token = RegexpTokenizer(r'[a-zA-Z0-9]+')\r\n",
        "cv = CountVectorizer(lowercase=True,stop_words=('english'),tokenizer =token.tokenize,ngram_range=(1,1))\r\n",
        "# if lower:\r\n",
        "#       data = data.lower()\r\n",
        "# if accent_function is not None:\r\n",
        "#       data = accent_function(data)\r\n",
        "# p_test.SentimentText=data.SentimentText.astype(str)\r\n",
        "text_counts = cv.fit_transform(data['Phrase'])"
      ],
      "execution_count": 53,
      "outputs": []
    },
    {
      "cell_type": "code",
      "metadata": {
        "id": "M8_-hi58L_2z"
      },
      "source": [
        "from sklearn.model_selection import train_test_split\r\n",
        "X_train,X_test,y_train,y_test=train_test_split(text_counts,data['Sentiment'],test_size=0.3,random_state=1)\r\n"
      ],
      "execution_count": 54,
      "outputs": []
    },
    {
      "cell_type": "code",
      "metadata": {
        "colab": {
          "base_uri": "https://localhost:8080/"
        },
        "id": "nbeGXKgaOKMh",
        "outputId": "83890d69-d3ca-453a-a03c-360e1c9d7649"
      },
      "source": [
        "from sklearn.naive_bayes import MultinomialNB\r\n",
        "from sklearn import metrics\r\n",
        "\r\n",
        "\r\n",
        "clf = MultinomialNB().fit(X_train,y_train)\r\n",
        "predicted = clf.predict(X_test)\r\n",
        "print(\"MultinomialNB Accuracy:\",metrics.accuracy_score(y_test, predicted))"
      ],
      "execution_count": 55,
      "outputs": [
        {
          "output_type": "stream",
          "text": [
            "MultinomialNB Accuracy: 1.0\n"
          ],
          "name": "stdout"
        }
      ]
    },
    {
      "cell_type": "code",
      "metadata": {
        "id": "PuruIOyKQZoF"
      },
      "source": [
        "from sklearn.feature_extraction.text import TfidfVectorizer\r\n",
        "tf=TfidfVectorizer()\r\n",
        "text_tf = tf.fit_transform(data['Phrase'])"
      ],
      "execution_count": 58,
      "outputs": []
    },
    {
      "cell_type": "code",
      "metadata": {
        "colab": {
          "base_uri": "https://localhost:8080/"
        },
        "id": "2PvYDb0okwIr",
        "outputId": "d0114d52-e98a-4170-abec-56459b12f75f"
      },
      "source": [
        "text_tf"
      ],
      "execution_count": 61,
      "outputs": [
        {
          "output_type": "execute_result",
          "data": {
            "text/plain": [
              "<82x72 sparse matrix of type '<class 'numpy.float64'>'\n",
              "\twith 72 stored elements in Compressed Sparse Row format>"
            ]
          },
          "metadata": {
            "tags": []
          },
          "execution_count": 61
        }
      ]
    },
    {
      "cell_type": "code",
      "metadata": {
        "id": "7Ipg5iuplIar"
      },
      "source": [
        "from sklearn.model_selection import train_test_split\r\n",
        "X_train,X_test,y_train,y_test = train_test_split(text_tf,data['Sentiment'],test_size=0.3,random_state=123)"
      ],
      "execution_count": 62,
      "outputs": []
    },
    {
      "cell_type": "code",
      "metadata": {
        "colab": {
          "base_uri": "https://localhost:8080/"
        },
        "id": "j5Er_Xb9mNkz",
        "outputId": "3687b30d-baaa-4099-c0e6-e8a36d13393a"
      },
      "source": [
        "from sklearn.naive_bayes import MultinomialNB\r\n",
        "from sklearn import metrics\r\n",
        "# Model Generation Using Multinomial Naive Bayes\r\n",
        "clf = MultinomialNB().fit(X_train, y_train)\r\n",
        "predicted= clf.predict(X_test)\r\n",
        "print(\"MultinomialNB Accuracy:\",metrics.accuracy_score(y_test, predicted))"
      ],
      "execution_count": 63,
      "outputs": [
        {
          "output_type": "stream",
          "text": [
            "MultinomialNB Accuracy: 0.96\n"
          ],
          "name": "stdout"
        }
      ]
    },
    {
      "cell_type": "code",
      "metadata": {
        "id": "YSlUT0jImZJL"
      },
      "source": [
        ""
      ],
      "execution_count": null,
      "outputs": []
    }
  ]
}